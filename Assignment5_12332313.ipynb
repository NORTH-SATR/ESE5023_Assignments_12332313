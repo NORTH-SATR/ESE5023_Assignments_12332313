{
 "cells": [
  {
   "cell_type": "markdown",
   "id": "59a63b0e",
   "metadata": {},
   "source": [
    "Assignment 5 (due on 12/20)\n",
    "\n",
    "Student：程汉鑫（12332313），Gtihub：NORTH-STAR\n",
    "\n",
    "批改人：赵淑慧\n",
    "\n",
    "得分：40/40\n",
    "\n",
    "Bonus：15/15"
   ]
  },
  {
   "cell_type": "markdown",
   "id": "914b9dfd",
   "metadata": {},
   "source": [
    "非常棒！\n",
    "1.3注意参考论文误将1988年的数据当1987年绘制了，所以数据全部前移了一年，本题应该从1987年开始画。"
   ]
  }
 ],
 "metadata": {
  "kernelspec": {
   "display_name": "Python 3 (ipykernel)",
   "language": "python",
   "name": "python3"
  },
  "language_info": {
   "codemirror_mode": {
    "name": "ipython",
    "version": 3
   },
   "file_extension": ".py",
   "mimetype": "text/x-python",
   "name": "python",
   "nbconvert_exporter": "python",
   "pygments_lexer": "ipython3",
   "version": "3.8.8"
  }
 },
 "nbformat": 4,
 "nbformat_minor": 5
}
